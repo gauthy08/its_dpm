{
 "cells": [
  {
   "cell_type": "code",
   "execution_count": 1,
   "id": "1a6ef0ef-9294-4919-8502-5af0d22a5900",
   "metadata": {
    "tags": []
   },
   "outputs": [
    {
     "name": "stderr",
     "output_type": "stream",
     "text": [
      "Setting spark.hadoop.yarn.resourcemanager.principal to gaubet\n"
     ]
    },
    {
     "data": {
      "text/plain": [
       "[Row(taxonomy_code='COREP', module_code='COREP_NSFR_CON', template_code='C 61.00', template_label='(SF - Items providing stable funding) Stable funding. Items providing stable funding', table_code='C 61.00.a', module_gueltig_von=datetime.date(2013, 12, 1), module_gueltig_bis=datetime.date(2014, 9, 29), table_name='Stable funding. Items providing stable funding (I). Total', x_axis_name='after 12 months', x_axis_rc_code='050', x_axis_rc_order=50, y_axis_name='own funds after deduction have been applied where appropriate', y_axis_rc_code='006', y_axis_rc_order=6, z_axis_name='Total currencies', z_axis_rc_code='010', z_axis_rc_order=10, x_ebene_1_order=5, x_ebene_2_order=None, x_ebene_3_order=None, x_ebene_4_order=None, x_ebene_5_order=None, x_ebene_1='Amount', x_ebene_2=None, x_ebene_3=None, x_ebene_4=None, x_ebene_5=None, y_ebene_1_order=5, y_ebene_2_order=None, y_ebene_3_order=None, y_ebene_4_order=None, y_ebene_5_order=None, y_ebene_1='ITEMS PROVIDING STABLE FUNDING', y_ebene_2=None, y_ebene_3=None, y_ebene_4=None, y_ebene_5=None, is_abstract=True, ko=None, datapoint=None, criteria=None, db=None, idt_hash='bb8f65fc000baf2e63cd5e9d818feb52'),\n",
       " Row(taxonomy_code='COREP', module_code='COREP_NSFR_CON', template_code='C 61.00', template_label='(SF - Items providing stable funding) Stable funding. Items providing stable funding', table_code='C 61.00.a', module_gueltig_von=datetime.date(2013, 12, 1), module_gueltig_bis=datetime.date(2014, 9, 29), table_name='Stable funding. Items providing stable funding (I). Total', x_axis_name='after 12 months', x_axis_rc_code='050', x_axis_rc_order=50, y_axis_name='ITEMS PROVIDING STABLE FUNDING', y_axis_rc_code='005', y_axis_rc_order=5, z_axis_name='Total currencies', z_axis_rc_code='010', z_axis_rc_order=10, x_ebene_1_order=5, x_ebene_2_order=None, x_ebene_3_order=None, x_ebene_4_order=None, x_ebene_5_order=None, x_ebene_1='Amount', x_ebene_2=None, x_ebene_3=None, x_ebene_4=None, x_ebene_5=None, y_ebene_1_order=None, y_ebene_2_order=None, y_ebene_3_order=None, y_ebene_4_order=None, y_ebene_5_order=None, y_ebene_1=None, y_ebene_2=None, y_ebene_3=None, y_ebene_4=None, y_ebene_5=None, is_abstract=True, ko=None, datapoint=None, criteria=None, db=None, idt_hash='378ea8bcd99327e1066565dc56a54140'),\n",
       " Row(taxonomy_code='COREP_2015-A', module_code='COREP_IND', template_code='C 12.00', template_label='(CR SEC SA) Credit risk: Securitisations - Standardised Approach to own funds requirements', table_code='C 12.00', module_gueltig_von=datetime.date(2015, 6, 30), module_gueltig_bis=datetime.date(2016, 9, 29), table_name='Credit risk: Securitisations - Standardised Approach to own funds requirements', x_axis_name='NOTIONAL AMOUNT RETAINED OR REPURCHASED OF CREDIT PROTECTION', x_axis_rc_code='040', x_axis_rc_order=40, y_axis_name='BREAKDOWN OF OUTSTANDING POSITIONS ACCORDING TO CQS AT INCEPTION:', y_axis_rc_code='249', y_axis_rc_order=249, z_axis_name=None, z_axis_rc_code=None, z_axis_rc_order=None, x_ebene_1_order=19, x_ebene_2_order=None, x_ebene_3_order=None, x_ebene_4_order=None, x_ebene_5_order=None, x_ebene_1='SYNTHETIC SECURITISATIONS: CREDIT PROTECTION TO THE SECURITISED EXPOSURES', x_ebene_2=None, x_ebene_3=None, x_ebene_4=None, x_ebene_5=None, y_ebene_1_order=None, y_ebene_2_order=None, y_ebene_3_order=None, y_ebene_4_order=None, y_ebene_5_order=None, y_ebene_1=None, y_ebene_2=None, y_ebene_3=None, y_ebene_4=None, y_ebene_5=None, is_abstract=True, ko=None, datapoint=None, criteria=None, db=None, idt_hash='ed586ab28731d84e58e552a5ff12b12c'),\n",
       " Row(taxonomy_code='COREP_2015-A', module_code='COREP_IND', template_code='C 12.00', template_label='(CR SEC SA) Credit risk: Securitisations - Standardised Approach to own funds requirements', table_code='C 12.00', module_gueltig_von=datetime.date(2015, 6, 30), module_gueltig_bis=datetime.date(2016, 9, 29), table_name='Credit risk: Securitisations - Standardised Approach to own funds requirements', x_axis_name='(-) DEDUCTED FROM OWN FUNDS', x_axis_rc_code='200', x_axis_rc_order=200, y_axis_name='BREAKDOWN OF OUTSTANDING POSITIONS ACCORDING TO CQS AT INCEPTION:', y_axis_rc_code='249', y_axis_rc_order=249, z_axis_name=None, z_axis_rc_code=None, z_axis_rc_order=None, x_ebene_1_order=190, x_ebene_2_order=None, x_ebene_3_order=None, x_ebene_4_order=None, x_ebene_5_order=None, x_ebene_1='EXPOSURE VALUE', x_ebene_2=None, x_ebene_3=None, x_ebene_4=None, x_ebene_5=None, y_ebene_1_order=None, y_ebene_2_order=None, y_ebene_3_order=None, y_ebene_4_order=None, y_ebene_5_order=None, y_ebene_1=None, y_ebene_2=None, y_ebene_3=None, y_ebene_4=None, y_ebene_5=None, is_abstract=True, ko=None, datapoint=None, criteria=None, db=None, idt_hash='dd7677264054913f32feff0cb173b02c'),\n",
       " Row(taxonomy_code='COREP_2015-A', module_code='COREP_IND', template_code='C 12.00', template_label='(CR SEC SA) Credit risk: Securitisations - Standardised Approach to own funds requirements', table_code='C 12.00', module_gueltig_von=datetime.date(2015, 6, 30), module_gueltig_bis=datetime.date(2016, 9, 29), table_name='Credit risk: Securitisations - Standardised Approach to own funds requirements', x_axis_name='SUBJECT TO RISK WEIGHTS', x_axis_rc_code='210', x_axis_rc_order=210, y_axis_name='BREAKDOWN OF OUTSTANDING POSITIONS ACCORDING TO CQS AT INCEPTION:', y_axis_rc_code='249', y_axis_rc_order=249, z_axis_name=None, z_axis_rc_code=None, z_axis_rc_order=None, x_ebene_1_order=190, x_ebene_2_order=None, x_ebene_3_order=None, x_ebene_4_order=None, x_ebene_5_order=None, x_ebene_1='EXPOSURE VALUE', x_ebene_2=None, x_ebene_3=None, x_ebene_4=None, x_ebene_5=None, y_ebene_1_order=None, y_ebene_2_order=None, y_ebene_3_order=None, y_ebene_4_order=None, y_ebene_5_order=None, y_ebene_1=None, y_ebene_2=None, y_ebene_3=None, y_ebene_4=None, y_ebene_5=None, is_abstract=True, ko=None, datapoint=None, criteria=None, db=None, idt_hash='f930d8ceed2e033d21daf2f1f3b17fd2')]"
      ]
     },
     "execution_count": 1,
     "metadata": {},
     "output_type": "execute_result"
    }
   ],
   "source": [
    "import pandas as pd\n",
    "import re\n",
    "from datetime import datetime\n",
    "from sqlalchemy.orm import Session\n",
    "from pyspark.sql import SparkSession\n",
    "from pyspark_llap import HiveWarehouseSession\n",
    "\n",
    "#hue_database = \"gaubet\"\n",
    "#table_name = \"titanic\"\n",
    "\n",
    "hue_database = \"its_analysedaten_wapr\"\n",
    "table_name = \"its_base_data\"\n",
    "\n",
    "\"\"\"\n",
    "Lädt Daten aus HUE und schreibt sie in die SQL-Datenbank.\n",
    "\"\"\"\n",
    "\n",
    "# Spark-Session initialisieren\n",
    "spark = SparkSession.builder\\\n",
    "    .appName(\"hwc-app\")\\\n",
    "    .config(\"spark.security.credentials.hiveserver2.enabled\", \"false\")\\\n",
    "    .config(\"spark.datasource.hive.warehouse.read.via.llap\", \"false\")\\\n",
    "    .config(\"spark.datasource.hive.warehouse.read.jdbc.mode\", \"client\")\\\n",
    "    .config(\"spark.sql.hive.hiveserver2.jdbc.url\",\n",
    "            \"jdbc:hive2://anucdp-mgmt-01.w.oenb.co.at:2181,anucdp-mgmt-02.w.oenb.co.at:2181,anucdp-mgmt-03.w.oenb.co.at:2181/;\"\n",
    "            \"serviceDiscoveryMode=zooKeeper;zooKeeperNamespace=hiveserver2;trustStoreType=jks;ssl=true\")\\\n",
    "    .config(\"spark.yarn.historyServer.address\", \"https://anucdp-mgmt-02.w.oenb.co.at\")\\\n",
    "    .config(\"spark.sql.hive.hiveserver2.jdbc.url.principal\", \"hive/_HOST@AD.OENB.CO.AT\")\\\n",
    "    .config(\"spark.jars\",\n",
    "            \"/runtime-addons/spark332-7190-1202-b75-ht9wmb/opt/spark/optional-lib/hive-warehouse-connector-assembly.jar\")\\\n",
    "    .getOrCreate()\n",
    "\n",
    "# HiveWarehouseSession initialisieren\n",
    "hwc = HiveWarehouseSession.session(spark).build()\n",
    "hwc.setDatabase(hue_database)\n",
    "\n",
    "# Daten aus HUE abfragen\n",
    "filtered_rows = hwc.sql(f\"SELECT * FROM {hue_database}.{table_name} LIMIT 5\")\n",
    "data = filtered_rows.collect()\n",
    "\n",
    "data"
   ]
  },
  {
   "cell_type": "code",
   "execution_count": null,
   "id": "039ddc95-2fa0-49b2-8b20-418afe008fcf",
   "metadata": {},
   "outputs": [],
   "source": []
  }
 ],
 "metadata": {
  "kernelspec": {
   "display_name": "Python 3 (ipykernel)",
   "language": "python",
   "name": "python3"
  },
  "language_info": {
   "codemirror_mode": {
    "name": "ipython",
    "version": 3
   },
   "file_extension": ".py",
   "mimetype": "text/x-python",
   "name": "python",
   "nbconvert_exporter": "python",
   "pygments_lexer": "ipython3",
   "version": "3.10.13"
  }
 },
 "nbformat": 4,
 "nbformat_minor": 5
}
