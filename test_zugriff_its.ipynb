{
 "cells": [
  {
   "cell_type": "code",
   "execution_count": 1,
   "id": "b2e78226-b76d-44b4-a726-e6e06285138a",
   "metadata": {},
   "outputs": [
    {
     "name": "stderr",
     "output_type": "stream",
     "text": [
      "Setting spark.hadoop.yarn.resourcemanager.principal to gaubet\n"
     ]
    },
    {
     "name": "stdout",
     "output_type": "stream",
     "text": [
      "+-------------+-----------+-------------+--------------------+----------+------------------+------------------+--------------------+--------------------+--------------+---------------+-----------------+--------------+---------------+--------------------+--------------+---------------+---------------+---------------+---------------+---------------+---------------+---------+---------+---------+---------+---------+---------------+---------------+---------------+---------------+---------------+--------------+---------+---------+---------+---------+-----------+----+---------+--------+----+--------------------+\n",
      "|taxonomy_code|module_code|template_code|      template_label|table_code|module_gueltig_von|module_gueltig_bis|          table_name|         x_axis_name|x_axis_rc_code|x_axis_rc_order|      y_axis_name|y_axis_rc_code|y_axis_rc_order|         z_axis_name|z_axis_rc_code|z_axis_rc_order|x_ebene_1_order|x_ebene_2_order|x_ebene_3_order|x_ebene_4_order|x_ebene_5_order|x_ebene_1|x_ebene_2|x_ebene_3|x_ebene_4|x_ebene_5|y_ebene_1_order|y_ebene_2_order|y_ebene_3_order|y_ebene_4_order|y_ebene_5_order|     y_ebene_1|y_ebene_2|y_ebene_3|y_ebene_4|y_ebene_5|is_abstract|  ko|datapoint|criteria|  db|            idt_hash|\n",
      "+-------------+-----------+-------------+--------------------+----------+------------------+------------------+--------------------+--------------------+--------------+---------------+-----------------+--------------+---------------+--------------------+--------------+---------------+---------------+---------------+---------------+---------------+---------------+---------+---------+---------+---------+---------+---------------+---------------+---------------+---------------+---------------+--------------+---------+---------+---------+---------+-----------+----+---------+--------+----+--------------------+\n",
      "|    COREP_3.2|  COREP_ALM|      C 68.00|Concentration of ...| C 68.00.a|        2023-06-30|        3099-12-31|Concentration of ...|Carrying amount r...|          0010|             10| Savings accounts|          0070|             70|    Total currencies|          0010|             10|           null|           null|           null|           null|           null|     null|     null|     null|     null|     null|             10|           null|           null|           null|           null|RETAIL FUNDING|     null|     null|     null|     null|       true|null|     null|    null|null|3ba722739e15a7fc7...|\n",
      "|    COREP_3.2|  COREP_ALM|      C 68.00|Concentration of ...| C 68.00.w|        2023-06-30|        3099-12-31|Concentration of ...|Amount not covere...|          0030|             30|WHOLESALE FUNDING|          0100|            100|Significant currency|           999|            999|           null|           null|           null|           null|           null|     null|     null|     null|     null|     null|           null|           null|           null|           null|           null|          null|     null|     null|     null|     null|       true|null|     null|    null|null|8cb0c6b290777c846...|\n",
      "|    COREP_3.2|  COREP_ALM|      C 68.00|Concentration of ...| C 68.00.w|        2023-06-30|        3099-12-31|Concentration of ...|Weighted average ...|          0040|             40| Savings accounts|          0070|             70|Significant currency|           999|            999|           null|           null|           null|           null|           null|     null|     null|     null|     null|     null|             10|           null|           null|           null|           null|RETAIL FUNDING|     null|     null|     null|     null|       true|null|     null|    null|null|85dccc3e704c4072f...|\n",
      "|    COREP_3.2|  COREP_ALM|      C 70.00|Roll-over of funding| C 70.00.a|        2023-06-30|        3099-12-31|Roll-over of fund...|            Maturing|          0010|             10|          DAY: 31|          1205|           1205|    Total currencies|          0010|             10|              5|           null|           null|           null|           null|Overnight|     null|     null|     null|     null|           null|           null|           null|           null|           null|          null|     null|     null|     null|     null|       true|null|     null|    null|null|611257ac2bdc51990...|\n",
      "|    COREP_3.2|  COREP_ALM|      C 70.00|Roll-over of funding| C 70.00.a|        2023-06-30|        3099-12-31|Roll-over of fund...|            Maturing|          0010|             10|           DAY: 5|          0165|            165|    Total currencies|          0010|             10|              5|           null|           null|           null|           null|Overnight|     null|     null|     null|     null|           null|           null|           null|           null|           null|          null|     null|     null|     null|     null|       true|null|     null|    null|null|0521fd9c1b5a96c89...|\n",
      "+-------------+-----------+-------------+--------------------+----------+------------------+------------------+--------------------+--------------------+--------------+---------------+-----------------+--------------+---------------+--------------------+--------------+---------------+---------------+---------------+---------------+---------------+---------------+---------+---------+---------+---------+---------+---------------+---------------+---------------+---------------+---------------+--------------+---------+---------+---------+---------+-----------+----+---------+--------+----+--------------------+\n",
      "\n"
     ]
    }
   ],
   "source": [
    "from pyspark.sql import SparkSession\n",
    "from pyspark_llap import HiveWarehouseSession\n",
    "import os\n",
    "\n",
    "try:\n",
    "    spark = SparkSession.builder\\\n",
    "        .appName(\"hwc-app\")\\\n",
    "        .config(\"spark.security.credentials.hiveserver2.enabled\",\"false\")\\\n",
    "        .config(\"spark.datasource.hive.warehouse.read.via.llap\",\"false\")\\\n",
    "        .config(\"spark.datasource.hive.warehouse.read.jdbc.mode\", \"client\")\\\n",
    "        .config(\"spark.sql.hive.hiveserver2.jdbc.url\",\"jdbc:hive2://anucdp-mgmt-01.w.oenb.co.at:2181,anucdp-mgmt-02.w.oenb.co.at:2181,anucdp-mgmt-03.w.oenb.co.at:2181/;serviceDiscoveryMode=zooKeeper;zooKeeperNamespace=hiveserver2;trustStoreType=jks;ssl=true\")\\\n",
    "        .config(\"spark.yarn.historyServer.address\",\"https://anucdp-mgmt-02.w.oenb.co.at\")\\\n",
    "        .config(\"spark.sql.hive.hiveserver2.jdbc.url.principal\",\"hive/_HOST@AD.OENB.CO.AT\")\\\n",
    "        .config(\"spark.hadoop.yarn.resourcemanager.principal\",\"hive\")\\\n",
    "        .config(\"spark.kryo.registrator\",\"com.qubole.spark.hiveacid.util.HiveAcidKyroRegistrator\")\\\n",
    "        .config(\"spark.sql.extensions\",\"com.qubole.spark.hiveacid.HiveAcidAutoConvertExtension\")\\\n",
    "    \t.config(\"spark.jars\", \"/runtime-addons/spark332-7190-1202-b75-ht9wmb/opt/spark/optional-lib/hive-warehouse-connector-assembly.jar\")\\\n",
    "        .getOrCreate()\n",
    "    \n",
    "    hwc = HiveWarehouseSession.session(spark).build()\n",
    "    #hwc.sql(\"SELECT * from dap_labor_demo.titanic LIMIT 5\").show()\n",
    "    #hwc.sql(\"SELECT * from its_analysedaten_prod.its_base_data\").show()\n",
    "    hwc.sql(\"\"\"\n",
    "    SELECT * \n",
    "    FROM its_analysedaten_prod.its_base_data \n",
    "    WHERE taxonomy_code IN ('FINREP_3.2.1', 'COREP_3.2')\n",
    "    LIMIT 5\n",
    "    \"\"\").show()\n",
    "\n",
    "finally:\n",
    "    if spark is not None:\n",
    "        spark.stop()\n",
    "\n",
    "#its_analysedaten_prod.its_base_data"
   ]
  },
  {
   "cell_type": "code",
   "execution_count": null,
   "id": "dfc42bc4-42e1-41c0-956e-735d78f368f7",
   "metadata": {},
   "outputs": [],
   "source": []
  }
 ],
 "metadata": {
  "kernelspec": {
   "display_name": "Python 3 (ipykernel)",
   "language": "python",
   "name": "python3"
  },
  "language_info": {
   "codemirror_mode": {
    "name": "ipython",
    "version": 3
   },
   "file_extension": ".py",
   "mimetype": "text/x-python",
   "name": "python",
   "nbconvert_exporter": "python",
   "pygments_lexer": "ipython3",
   "version": "3.12.4"
  }
 },
 "nbformat": 4,
 "nbformat_minor": 5
}
