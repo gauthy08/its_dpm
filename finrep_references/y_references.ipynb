{
 "cells": [
  {
   "cell_type": "markdown",
   "id": "3ee69678-1218-45a2-9961-c0533fce6597",
   "metadata": {},
   "source": [
    "Bekannte Ausnahmen X - Achse: 18 18.1 18.2"
   ]
  },
  {
   "cell_type": "code",
   "execution_count": 11,
   "id": "3a16f658-847d-4fac-ba7c-51b2f76ade28",
   "metadata": {},
   "outputs": [
    {
     "name": "stdout",
     "output_type": "stream",
     "text": [
      "['Index', '1.1', '1.2', '1.3', '2', '3', '4', '5', '6', '7', '8', '9', '10', '11', '12', '13', '14', '15', '16', '17', '18', '18.1', '18.2', '19', '20', '21', '22', '23', '24', '25', '26', '30', '31', '40', '41', '42 ', '43', '44', '45', '46', '47']\n",
      "['1.1', '1.2', '1.3', '2', '3', '4', '5', '6', '7', '8', '9', '10', '11', '12', '13', '14', '15', '16', '17', '18', '18.1', '18.2', '19', '20', '21', '22', '23', '24', '25', '26', '30', '31', '40', '41', '42 ', '43', '44', '45', '46', '47']\n"
     ]
    }
   ],
   "source": [
    "import pandas as pd\n",
    "import numpy as np\n",
    "\n",
    "\n",
    "# Name/ Pfad zur Excel-Datei anpassen:\n",
    "excel_file = 'Annex 3 (FINREP).xlsx'\n",
    "\n",
    "# Alle Worksheet-Namen holen\n",
    "xl = pd.ExcelFile(excel_file)\n",
    "\n",
    "print(xl.sheet_names)\n",
    "\n",
    "list_index_test = ['18.1', '18.2']\n",
    "list_index_test = xl.sheet_names[1:]\n",
    "print(list_index_test)"
   ]
  },
  {
   "cell_type": "code",
   "execution_count": 13,
   "id": "be6234a0-1570-4a18-a2fb-701fc4cc7695",
   "metadata": {},
   "outputs": [
    {
     "name": "stdout",
     "output_type": "stream",
     "text": [
      "test\n",
      "test\n",
      "Keine Zelle mit 'References' in '40' gefunden. Überspringe dieses Sheet.\n",
      "     Worksheet        Line                                               Text  \\\n",
      "0          1.1  1.1 Assets                                                NaN   \n",
      "1          1.1         NaN                                                NaN   \n",
      "2          1.1        0010  Cash, cash balances at central banks and other...   \n",
      "3          1.1        0020                                       Cash on hand   \n",
      "4          1.1        0030                     Cash balances at central banks   \n",
      "...        ...         ...                                                ...   \n",
      "1831        47         NaN                                                NaN   \n",
      "1832        47        0010  Non-performing loans and advances: weighted av...   \n",
      "1833        47        0020  Net cumulated recoveries from litigation proce...   \n",
      "1834        47        0030  Gross carrying amount reduction from litigatio...   \n",
      "1835        47        0040  Average duration of litigation procedures conc...   \n",
      "\n",
      "                  LegalReference  \n",
      "0                            NaN  \n",
      "1                     References  \n",
      "2                   IAS 1.54 (i)  \n",
      "3               Annex V.Part 2.1  \n",
      "4               Annex V.Part 2.2  \n",
      "...                          ...  \n",
      "1831                  References  \n",
      "1832     Annex V.Part 2.362, 363  \n",
      "1833  Annex V.Part 2.362, 364(a)  \n",
      "1834  Annex V.Part 2.362, 364(b)  \n",
      "1835  Annex V.Part 2.362, 364(c)  \n",
      "\n",
      "[1836 rows x 4 columns]\n"
     ]
    }
   ],
   "source": [
    "\n",
    "\n",
    "all_data = []\n",
    "\n",
    "for sheet_name in list_index_test:\n",
    "    # Wir lesen das komplette Sheet ohne Header-Interpretation, \n",
    "    # damit wir alles „roh“ haben:\n",
    "    df = pd.read_excel(excel_file, sheet_name=sheet_name, header=None)\n",
    "    \n",
    "    # Suche nach einer Zelle, die \"references\" (case-insensitive) enthält.\n",
    "    # Wir durchmustern alle Zellen des DataFrame df.\n",
    "    # Dabei wandeln wir Werte zu Strings um und prüfen \"contains('references')\"\n",
    "    references_mask = df.apply(lambda col: col.astype(str).str.contains('references', case=False, na=False))\n",
    "    \n",
    "    # Die True/False-Matrix flatten wir und filtern die True-Werte heraus:\n",
    "    found_positions = np.where(references_mask.values == True)\n",
    "    \n",
    "    if len(found_positions[0]) == 0:\n",
    "        # Keine Zelle mit \"references\" gefunden; nächstes Worksheet\n",
    "        print(f\"Keine Zelle mit 'References' in '{sheet_name}' gefunden. Überspringe dieses Sheet.\")\n",
    "        continue\n",
    "    \n",
    "    # Wir nehmen hier einfach die ERSTE gefundene Position:\n",
    "    first_row = found_positions[0][0]\n",
    "    first_col = found_positions[1][0]\n",
    "    \n",
    "    # Angenommen: Spalte mit \"References\" ist first_col.\n",
    "    # Wir nehmen an, dass \"Line\" in (first_col - 2) und \"Text\" in (first_col - 1) stehen.\n",
    "    line_col_idx = first_col - 2\n",
    "    text_col_idx = first_col - 1\n",
    "\n",
    "    if sheet_name == '18' or sheet_name == '18.1':\n",
    "        print(\"test\")\n",
    "        line_col_idx = first_col - 3\n",
    "        text_col_idx = first_col - 2\n",
    "\n",
    "    if sheet_name == '18.2':\n",
    "        line_col_idx = first_col - 3\n",
    "        text_col_idx = first_col - 1\n",
    "    \n",
    "    # Prüfen, ob das auch valide Spalten sind\n",
    "    if line_col_idx < 0 or text_col_idx < 0:\n",
    "        print(f\"Spalten für 'Line'/'Text' liegen außerhalb des Bereichs. Worksheet '{sheet_name}' wird übersprungen.\")\n",
    "        continue\n",
    "    \n",
    "    # Außerdem nehmen wir an, dass die Zellen ab der nächsten Zeile (first_row+1) unsere Daten enthalten.\n",
    "    df_data = df.iloc[first_row-2:, :]\n",
    "    \n",
    "    # Jetzt iterieren wir über diese Datenzeilen und lesen \"Line\", \"Text\" und \"LegalReference\".\n",
    "    # \"Line\" = df_data.iloc[:, line_col_idx]\n",
    "    # \"Text\" = df_data.iloc[:, text_col_idx]\n",
    "    # \"LegalReference\" = df_data.iloc[:, first_col]\n",
    "    \n",
    "    for i in range(len(df_data)):\n",
    "        line_val  = df_data.iloc[i, line_col_idx]\n",
    "        text_val  = df_data.iloc[i, text_col_idx]\n",
    "        ref_val   = df_data.iloc[i, first_col]\n",
    "        \n",
    "        # Nur Zeilen übernehmen, die nicht alle Null/NaN sind\n",
    "        if pd.notnull(line_val) or pd.notnull(text_val) or pd.notnull(ref_val):\n",
    "            all_data.append({\n",
    "                'Worksheet': sheet_name,\n",
    "                'Line': line_val,\n",
    "                'Text': text_val,\n",
    "                'LegalReference': ref_val\n",
    "            })\n",
    "\n",
    "# Alle Daten in ein DataFrame\n",
    "final_df = pd.DataFrame(all_data)\n",
    "print(final_df)\n",
    "\n",
    "# Optional: Speichern\n",
    "final_df.to_csv('output_y.csv', index=False, encoding='utf-8')\n"
   ]
  },
  {
   "cell_type": "code",
   "execution_count": null,
   "id": "e3391268-e5de-47e8-a610-d6847a514707",
   "metadata": {},
   "outputs": [],
   "source": []
  }
 ],
 "metadata": {
  "kernelspec": {
   "display_name": "Python 3 (ipykernel)",
   "language": "python",
   "name": "python3"
  },
  "language_info": {
   "codemirror_mode": {
    "name": "ipython",
    "version": 3
   },
   "file_extension": ".py",
   "mimetype": "text/x-python",
   "name": "python",
   "nbconvert_exporter": "python",
   "pygments_lexer": "ipython3",
   "version": "3.10.13"
  }
 },
 "nbformat": 4,
 "nbformat_minor": 5
}
