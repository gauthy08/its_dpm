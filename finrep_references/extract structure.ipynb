{
 "cells": [
  {
   "cell_type": "code",
   "execution_count": 11,
   "id": "7db29cd2-5a67-4e3f-97a3-17f720f91219",
   "metadata": {
    "tags": []
   },
   "outputs": [
    {
     "name": "stdout",
     "output_type": "stream",
     "text": [
      "Zelle B8 enthält '0010' und direkt darunter steht '0020'.\n",
      "Die Zelle rechts von 0010 (C8) enthält: Cash, cash balances at central banks and other demand deposits\n",
      "Die Zelle oberhalb (C7) ist fett formatiert.\n",
      "Die Zelle rechts neben 0020 (C9) hat einen Einzug von 1.0.\n"
     ]
    }
   ],
   "source": [
    "from openpyxl import load_workbook\n",
    "\n",
    "# Excel-Datei laden (xlsx-Format)\n",
    "excel_file = 'Annex 3 (FINREP).xlsx'\n",
    "wb = load_workbook(excel_file, data_only=True)\n",
    "ws = wb[wb.sheetnames[1]]  # hier wird das zweite Worksheet verwendet\n",
    "\n",
    "# Über alle relevanten Zellen iterieren (1-basierter Index in openpyxl)\n",
    "for row in range(1, ws.max_row):  # bis zur vorletzten Zeile, da wir die darunterliegende Zelle brauchen\n",
    "    for col in range(1, ws.max_column + 1):\n",
    "        cell = ws.cell(row=row, column=col)\n",
    "        # Suche nach \"0010\" (als String)\n",
    "        if str(cell.value) == \"0010\":\n",
    "            cell_below = ws.cell(row=row+1, column=col)\n",
    "            if str(cell_below.value) == \"0020\":\n",
    "                # Von der \"0010\"-Zelle eine Zelle nach rechts holen\n",
    "                cell_right = ws.cell(row=row, column=col+1)\n",
    "                print(f\"Zelle {cell.coordinate} enthält '0010' und direkt darunter steht '0020'.\")\n",
    "                print(f\"Die Zelle rechts von 0010 ({cell_right.coordinate}) enthält: {cell_right.value}\")\n",
    "                \n",
    "                # Prüfen, ob die Zelle oberhalb der Zelle rechts fett formatiert ist\n",
    "                if row > 1:\n",
    "                    header_cell = ws.cell(row=row-1, column=col+1)\n",
    "                    if header_cell.font and header_cell.font.bold:\n",
    "                        print(f\"Die Zelle oberhalb ({header_cell.coordinate}) ist fett formatiert.\")\n",
    "                    else:\n",
    "                        print(f\"Die Zelle oberhalb ({header_cell.coordinate}) ist nicht fett formatiert.\")\n",
    "                else:\n",
    "                    print(\"Es gibt keine Zelle oberhalb, um die Formatierung zu prüfen.\")\n",
    "                \n",
    "                # Zelle rechts neben der \"0020\"-Zelle (gleiche Zeile wie 0020, eine Spalte nach rechts)\n",
    "                indent_cell = ws.cell(row=row+1, column=col+1)\n",
    "                # Bei openpyxl wird der Einzug über die Eigenschaft 'alignment.indent' abgefragt.\n",
    "                indent_value = indent_cell.alignment.indent if indent_cell.alignment and indent_cell.alignment.indent is not None else 0\n",
    "                if indent_value > 0:\n",
    "                    print(f\"Die Zelle rechts neben 0020 ({indent_cell.coordinate}) hat einen Einzug von {indent_value}.\")\n",
    "                else:\n",
    "                    print(f\"Die Zelle rechts neben 0020 ({indent_cell.coordinate}) hat keinen Einzug.\")\n"
   ]
  },
  {
   "cell_type": "code",
   "execution_count": null,
   "id": "7da038e3-213b-4741-b6cd-71ea10fda49b",
   "metadata": {},
   "outputs": [],
   "source": []
  },
  {
   "cell_type": "code",
   "execution_count": null,
   "id": "7602f22b-73d5-4ada-ab62-db6975f7c5ac",
   "metadata": {},
   "outputs": [],
   "source": []
  }
 ],
 "metadata": {
  "kernelspec": {
   "display_name": "Python 3 (ipykernel)",
   "language": "python",
   "name": "python3"
  },
  "language_info": {
   "codemirror_mode": {
    "name": "ipython",
    "version": 3
   },
   "file_extension": ".py",
   "mimetype": "text/x-python",
   "name": "python",
   "nbconvert_exporter": "python",
   "pygments_lexer": "ipython3",
   "version": "3.10.13"
  }
 },
 "nbformat": 4,
 "nbformat_minor": 5
}
