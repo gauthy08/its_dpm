{
 "cells": [
  {
   "cell_type": "code",
   "execution_count": null,
   "id": "56e32aee-8623-44ee-8ada-22128b354096",
   "metadata": {},
   "outputs": [],
   "source": [
    "#Schritt 1: DF für F 1.1 - done\n",
    "#Schritt 2: Identify y und y rows - done\n",
    "#Schritt 3. Refeerence Tempalte DF "
   ]
  },
  {
   "cell_type": "code",
   "execution_count": 9,
   "id": "1fe5eabd-ea94-4fe6-bd8e-1a3ae87ef62c",
   "metadata": {
    "tags": []
   },
   "outputs": [
    {
     "name": "stderr",
     "output_type": "stream",
     "text": [
      "/home/cdsw/.local/lib/python3.10/site-packages/tqdm/auto.py:21: TqdmWarning: IProgress not found. Please update jupyter and ipywidgets. See https://ipywidgets.readthedocs.io/en/stable/user_install.html\n",
      "  from .autonotebook import tqdm as notebook_tqdm\n"
     ]
    }
   ],
   "source": [
    "import pandas as pd\n",
    "from sqlalchemy import create_engine, inspect\n",
    "from sqlalchemy.orm import sessionmaker\n",
    "from database.models import * \n",
    "import numpy as np\n",
    "from rapidfuzz import fuzz\n",
    "from sklearn.feature_extraction.text import TfidfVectorizer\n",
    "from sklearn.metrics.pairwise import cosine_similarity\n",
    "from sentence_transformers import SentenceTransformer"
   ]
  },
  {
   "cell_type": "code",
   "execution_count": 8,
   "id": "23451733-15c5-4395-b5a8-1606658fbd9b",
   "metadata": {
    "tags": []
   },
   "outputs": [],
   "source": [
    "#Schritt 1 \n",
    "# Verbindung zur Datenbank herstellen\n",
    "DATABASE_URL = \"sqlite:///database.db\"  # Pfad zur SQLite-Datenbank\n",
    "engine = create_engine(DATABASE_URL)\n",
    "SessionLocal = sessionmaker(bind=engine)\n",
    "def get_entries_by_code(code_value=\"F 01.01\"):\n",
    "    \n",
    "    session = SessionLocal()\n",
    "    try:\n",
    "        # Abfrage: SELECT * FROM Konzept WHERE code = 'ISFIN0000001'\n",
    "        entries = session.query(MergedData).filter(MergedData.template_id == code_value).order_by(MergedData.id).all()\n",
    "        data = []\n",
    "        for entry in entries:\n",
    "            row = entry.__dict__\n",
    "            row.pop(\"_sa_instance_state\", None)\n",
    "            data.append(row)\n",
    "        df = pd.DataFrame(data)\n",
    "        return df\n",
    "    finally:\n",
    "        session.close()\n",
    "\n",
    "pd.set_option('display.max_columns', None)\n",
    "df_merge_f1_1 = get_entries_by_code()\n",
    "#df_merge_f1_1"
   ]
  },
  {
   "cell_type": "code",
   "execution_count": 16,
   "id": "9af548ec-caf4-4cbc-9eef-e01d6d8b49e0",
   "metadata": {
    "tags": []
   },
   "outputs": [],
   "source": [
    "# 1. Fuzzy Similarity (Zeichen-basierter Vergleich)\n",
    "df_merge_f1_1['fuzzy_similarity'] = df_merge_f1_1.apply(\n",
    "    lambda row: fuzz.ratio(row['member_name'], row['y_axis_name']), axis=1\n",
    ")\n",
    "\n",
    "# 2. Token-basierte Similarity (z. B. mit token_sort_ratio)\n",
    "df_merge_f1_1['token_similarity'] = df_merge_f1_1.apply(\n",
    "    lambda row: fuzz.token_sort_ratio(row['member_name'], row['y_axis_name']), axis=1\n",
    ")\n",
    "\n",
    "# 3. TF-IDF-basierte Cosinus-Ähnlichkeit\n",
    "def tfidf_cosine_similarity(s1, s2):\n",
    "    try:\n",
    "        # Vektorisieren beider Strings\n",
    "        vectorizer = TfidfVectorizer()\n",
    "        tfidf = vectorizer.fit_transform([s1, s2])\n",
    "        # Cosinus-Ähnlichkeit zwischen den beiden TF-IDF-Vektoren\n",
    "        cos_sim = cosine_similarity(tfidf[0:1], tfidf[1:2])\n",
    "        return cos_sim[0][0]*100\n",
    "    except Exception as e:\n",
    "        return np.nan\n",
    "\n",
    "df_merge_f1_1['tfidf_similarity'] = df_merge_f1_1.apply(\n",
    "    lambda row: tfidf_cosine_similarity(row['member_name'], row['y_axis_name']), axis=1\n",
    ")\n",
    "\n",
    "# 4. Semantische Similarity mit Sentence Transformers\n",
    "# Lade ein vortrainiertes Modell (z.B. all-MiniLM-L6-v2)\n",
    "model = SentenceTransformer('all-MiniLM-L6-v2')\n",
    "\n",
    "def semantic_similarity(s1, s2):\n",
    "    try:\n",
    "        # Berechne die Embeddings der beiden Texte\n",
    "        emb1 = model.encode(s1)\n",
    "        emb2 = model.encode(s2)\n",
    "        # Cosinus-Ähnlichkeit zwischen den Embeddings\n",
    "        cos_sim = cosine_similarity([emb1], [emb2])\n",
    "        return cos_sim[0][0]*100\n",
    "    except Exception as e:\n",
    "        return np.nan\n",
    "\n",
    "df_merge_f1_1['semantic_similarity'] = df_merge_f1_1.apply(\n",
    "    lambda row: semantic_similarity(row['member_name'], row['y_axis_name']), axis=1\n",
    ")\n",
    "\n",
    "# Ausgabe des DataFrames mit den neuen Similarity-Spalten\n",
    "#print(df_merge_f1_1[['member_name', 'y_axis_name', 'fuzzy_similarity', 'token_similarity', 'tfidf_similarity', 'semantic_similarity']])"
   ]
  },
  {
   "cell_type": "code",
   "execution_count": 18,
   "id": "21496f32-7b67-4990-b499-5d5acc21bed0",
   "metadata": {
    "tags": []
   },
   "outputs": [
    {
     "data": {
      "text/html": [
       "<div>\n",
       "<style scoped>\n",
       "    .dataframe tbody tr th:only-of-type {\n",
       "        vertical-align: middle;\n",
       "    }\n",
       "\n",
       "    .dataframe tbody tr th {\n",
       "        vertical-align: top;\n",
       "    }\n",
       "\n",
       "    .dataframe thead th {\n",
       "        text-align: right;\n",
       "    }\n",
       "</style>\n",
       "<table border=\"1\" class=\"dataframe\">\n",
       "  <thead>\n",
       "    <tr style=\"text-align: right;\">\n",
       "      <th></th>\n",
       "      <th>konzept_code</th>\n",
       "      <th>member_name</th>\n",
       "      <th>y_axis_name</th>\n",
       "      <th>fuzzy_similarity</th>\n",
       "      <th>token_similarity</th>\n",
       "      <th>tfidf_similarity</th>\n",
       "      <th>semantic_similarity</th>\n",
       "    </tr>\n",
       "  </thead>\n",
       "  <tbody>\n",
       "    <tr>\n",
       "      <th>0</th>\n",
       "      <td>ISFIN1023000</td>\n",
       "      <td>Financial assets held for trading</td>\n",
       "      <td>Debt securities</td>\n",
       "      <td>29.166667</td>\n",
       "      <td>25.0</td>\n",
       "      <td>0.0</td>\n",
       "      <td>58.681846</td>\n",
       "    </tr>\n",
       "  </tbody>\n",
       "</table>\n",
       "<p>219 rows × 7 columns</p>\n",
       "</div>"
      ],
      "text/plain": [
       "    konzept_code                        member_name      y_axis_name  \\\n",
       "0   ISFIN1023000  Financial assets held for trading  Debt securities   \n",
       "..           ...                                ...              ...   \n",
       "\n",
       "    fuzzy_similarity  token_similarity  tfidf_similarity  semantic_similarity  \n",
       "0          29.166667              25.0               0.0            58.681846  \n",
       "..               ...               ...               ...                  ...  \n",
       "\n",
       "[219 rows x 7 columns]"
      ]
     },
     "execution_count": 18,
     "metadata": {},
     "output_type": "execute_result"
    }
   ],
   "source": [
    "pd.set_option('display.max_rows', 1)\n",
    "df_merge_f1_1[['konzept_code', 'member_name', 'y_axis_name', 'fuzzy_similarity', 'token_similarity', 'tfidf_similarity', 'semantic_similarity']]"
   ]
  },
  {
   "cell_type": "code",
   "execution_count": 19,
   "id": "37b2d76b-130b-4f63-a5fe-bd5a0ea7120a",
   "metadata": {
    "tags": []
   },
   "outputs": [],
   "source": [
    "# 1. Durchschnitt der vier Ähnlichkeitswerte pro Zeile berechnen\n",
    "similarity_cols = [\"fuzzy_similarity\", \"token_similarity\", \"tfidf_similarity\", \"semantic_similarity\"]\n",
    "df_merge_f1_1[\"avg_similarity\"] = df_merge_f1_1[similarity_cols].mean(axis=1)\n",
    "\n",
    "# 2. Neue Spalte Y_Winner initialisieren (zunächst mit NaN)\n",
    "df_merge_f1_1[\"Y_Winner\"] = np.nan\n",
    "\n",
    "# 3. Pro konzept_code die Zeile mit dem höchsten avg_similarity ermitteln und Y_Winner setzen\n",
    "for code, group in df_merge_f1_1.groupby(\"konzept_code\"):\n",
    "    # Index der Zeile mit dem höchsten Durchschnittswert in dieser Gruppe\n",
    "    max_idx = group[\"avg_similarity\"].idxmax()\n",
    "    # In dieser Zeile wird in Y_Winner der Durchschnittswert geschrieben\n",
    "    df_merge_f1_1.loc[max_idx, \"Y_Winner\"] = df_merge_f1_1.loc[max_idx, \"avg_similarity\"]"
   ]
  },
  {
   "cell_type": "code",
   "execution_count": 23,
   "id": "76cf9ae9-853c-4e66-a530-880d8dfb3599",
   "metadata": {
    "tags": []
   },
   "outputs": [
    {
     "data": {
      "text/html": [
       "<div>\n",
       "<style scoped>\n",
       "    .dataframe tbody tr th:only-of-type {\n",
       "        vertical-align: middle;\n",
       "    }\n",
       "\n",
       "    .dataframe tbody tr th {\n",
       "        vertical-align: top;\n",
       "    }\n",
       "\n",
       "    .dataframe thead th {\n",
       "        text-align: right;\n",
       "    }\n",
       "</style>\n",
       "<table border=\"1\" class=\"dataframe\">\n",
       "  <thead>\n",
       "    <tr style=\"text-align: right;\">\n",
       "      <th></th>\n",
       "      <th>konzept_code</th>\n",
       "      <th>member_name</th>\n",
       "      <th>y_axis_name</th>\n",
       "      <th>fuzzy_similarity</th>\n",
       "      <th>token_similarity</th>\n",
       "      <th>tfidf_similarity</th>\n",
       "      <th>semantic_similarity</th>\n",
       "      <th>Y_Winner</th>\n",
       "    </tr>\n",
       "  </thead>\n",
       "  <tbody>\n",
       "    <tr>\n",
       "      <th>0</th>\n",
       "      <td>ISFIN1023000</td>\n",
       "      <td>Financial assets held for trading</td>\n",
       "      <td>Debt securities</td>\n",
       "      <td>29.166667</td>\n",
       "      <td>25.000000</td>\n",
       "      <td>0.0</td>\n",
       "      <td>58.681846</td>\n",
       "      <td>NaN</td>\n",
       "    </tr>\n",
       "    <tr>\n",
       "      <th>1</th>\n",
       "      <td>ISFIN1023000</td>\n",
       "      <td>Assets</td>\n",
       "      <td>Debt securities</td>\n",
       "      <td>38.095238</td>\n",
       "      <td>38.095238</td>\n",
       "      <td>0.0</td>\n",
       "      <td>49.171042</td>\n",
       "      <td>NaN</td>\n",
       "    </tr>\n",
       "    <tr>\n",
       "      <th>...</th>\n",
       "      <td>...</td>\n",
       "      <td>...</td>\n",
       "      <td>...</td>\n",
       "      <td>...</td>\n",
       "      <td>...</td>\n",
       "      <td>...</td>\n",
       "      <td>...</td>\n",
       "      <td>...</td>\n",
       "    </tr>\n",
       "    <tr>\n",
       "      <th>217</th>\n",
       "      <td>ISFIN0004387</td>\n",
       "      <td>Loans and advances</td>\n",
       "      <td>Loans and advances</td>\n",
       "      <td>100.000000</td>\n",
       "      <td>100.000000</td>\n",
       "      <td>100.0</td>\n",
       "      <td>100.000000</td>\n",
       "      <td>100.0</td>\n",
       "    </tr>\n",
       "    <tr>\n",
       "      <th>218</th>\n",
       "      <td>ISFIN0004387</td>\n",
       "      <td>Carrying amount [mi]</td>\n",
       "      <td>Loans and advances</td>\n",
       "      <td>31.578947</td>\n",
       "      <td>31.578947</td>\n",
       "      <td>0.0</td>\n",
       "      <td>8.560728</td>\n",
       "      <td>NaN</td>\n",
       "    </tr>\n",
       "  </tbody>\n",
       "</table>\n",
       "<p>219 rows × 8 columns</p>\n",
       "</div>"
      ],
      "text/plain": [
       "     konzept_code                        member_name         y_axis_name  \\\n",
       "0    ISFIN1023000  Financial assets held for trading     Debt securities   \n",
       "1    ISFIN1023000                             Assets     Debt securities   \n",
       "..            ...                                ...                 ...   \n",
       "217  ISFIN0004387                 Loans and advances  Loans and advances   \n",
       "218  ISFIN0004387               Carrying amount [mi]  Loans and advances   \n",
       "\n",
       "     fuzzy_similarity  token_similarity  tfidf_similarity  \\\n",
       "0           29.166667         25.000000               0.0   \n",
       "1           38.095238         38.095238               0.0   \n",
       "..                ...               ...               ...   \n",
       "217        100.000000        100.000000             100.0   \n",
       "218         31.578947         31.578947               0.0   \n",
       "\n",
       "     semantic_similarity  Y_Winner  \n",
       "0              58.681846       NaN  \n",
       "1              49.171042       NaN  \n",
       "..                   ...       ...  \n",
       "217           100.000000     100.0  \n",
       "218             8.560728       NaN  \n",
       "\n",
       "[219 rows x 8 columns]"
      ]
     },
     "execution_count": 23,
     "metadata": {},
     "output_type": "execute_result"
    }
   ],
   "source": [
    "pd.set_option('display.max_rows', 4)\n",
    "df_merge_f1_1[['konzept_code', 'member_name', 'y_axis_name', 'fuzzy_similarity', 'token_similarity', 'tfidf_similarity', 'semantic_similarity', 'Y_Winner']]"
   ]
  },
  {
   "cell_type": "code",
   "execution_count": 43,
   "id": "157c0f38-e9b9-41b1-b847-2e2f85bb3197",
   "metadata": {
    "tags": []
   },
   "outputs": [
    {
     "name": "stdout",
     "output_type": "stream",
     "text": [
      "Anzahl unique konzept_code: 53\n",
      "Anzahl der Y_Winner über 90: 46\n"
     ]
    },
    {
     "data": {
      "text/html": [
       "<div>\n",
       "<style scoped>\n",
       "    .dataframe tbody tr th:only-of-type {\n",
       "        vertical-align: middle;\n",
       "    }\n",
       "\n",
       "    .dataframe tbody tr th {\n",
       "        vertical-align: top;\n",
       "    }\n",
       "\n",
       "    .dataframe thead th {\n",
       "        text-align: right;\n",
       "    }\n",
       "</style>\n",
       "<table border=\"1\" class=\"dataframe\">\n",
       "  <thead>\n",
       "    <tr style=\"text-align: right;\">\n",
       "      <th></th>\n",
       "      <th>konzept_code</th>\n",
       "      <th>y_axis_rc_code</th>\n",
       "      <th>member_name</th>\n",
       "      <th>y_axis_name</th>\n",
       "      <th>Y_Winner</th>\n",
       "    </tr>\n",
       "  </thead>\n",
       "  <tbody>\n",
       "    <tr>\n",
       "      <th>16</th>\n",
       "      <td>ISFIN1070000</td>\n",
       "      <td>0240</td>\n",
       "      <td>Hedge accounting</td>\n",
       "      <td>Derivatives – Hedge accounting</td>\n",
       "      <td>72.336097</td>\n",
       "    </tr>\n",
       "  </tbody>\n",
       "</table>\n",
       "<p>7 rows × 5 columns</p>\n",
       "</div>"
      ],
      "text/plain": [
       "    konzept_code y_axis_rc_code       member_name  \\\n",
       "16  ISFIN1070000           0240  Hedge accounting   \n",
       "..           ...            ...               ...   \n",
       "\n",
       "                       y_axis_name   Y_Winner  \n",
       "16  Derivatives – Hedge accounting  72.336097  \n",
       "..                             ...        ...  \n",
       "\n",
       "[7 rows x 5 columns]"
      ]
     },
     "execution_count": 43,
     "metadata": {},
     "output_type": "execute_result"
    }
   ],
   "source": [
    "# Anzahl der eindeutigen konzept_code\n",
    "unique_konzept_codes = df_merge_f1_1['konzept_code'].nunique()\n",
    "\n",
    "# Anzahl der Zeilen, bei denen Y_Winner > 90 ist\n",
    "y_winner_over_90 = df_merge_f1_1[df_merge_f1_1['Y_Winner'] > 90]\n",
    "\n",
    "print(\"Anzahl unique konzept_code:\", unique_konzept_codes)\n",
    "print(\"Anzahl der Y_Winner über 90:\", y_winner_over_90.shape[0])\n",
    "\n",
    "y_winner_under_90 = df_merge_f1_1[df_merge_f1_1['Y_Winner'] < 90]\n",
    "pd.set_option('display.max_rows', 1)\n",
    "y_winner_under_90[['konzept_code', 'y_axis_rc_code', 'member_name', 'y_axis_name', 'Y_Winner']]"
   ]
  },
  {
   "cell_type": "code",
   "execution_count": 46,
   "id": "a43880bd-871d-4acb-bcf6-0c648e205190",
   "metadata": {
    "tags": []
   },
   "outputs": [
    {
     "data": {
      "text/plain": [
       "(37, 8)"
      ]
     },
     "execution_count": 46,
     "metadata": {},
     "output_type": "execute_result"
    }
   ],
   "source": [
    "#Schritt 3\n",
    "# Verbindung zur Datenbank herstellen\n",
    "DATABASE_URL = \"sqlite:///database.db\"  # Pfad zur SQLite-Datenbank\n",
    "engine = create_engine(DATABASE_URL)\n",
    "SessionLocal = sessionmaker(bind=engine)\n",
    "\n",
    "def get_entries_by_code():\n",
    "    \n",
    "    session = SessionLocal()\n",
    "    try:\n",
    "        \n",
    "        entries = session.query(Template_Finrep).filter(\n",
    "        Template_Finrep.axis == 'y',\n",
    "        Template_Finrep.table == '1.1 Assets').all()\n",
    "        #Template_Finrep.text == 'Cash on hand').all()\n",
    "        \n",
    "        data = []\n",
    "        for entry in entries:\n",
    "            row = entry.__dict__\n",
    "            row.pop(\"_sa_instance_state\", None)\n",
    "            data.append(row)\n",
    "        df = pd.DataFrame(data)\n",
    "        return df\n",
    "    finally:\n",
    "        session.close()\n",
    "\n",
    "pd.set_option('display.max_columns', None)\n",
    "df_temp_ref = get_entries_by_code()\n",
    "df_temp_ref.head(1)\n",
    "df_temp_ref.shape"
   ]
  },
  {
   "cell_type": "code",
   "execution_count": 49,
   "id": "11d5bdb8-e51e-42ab-b09f-390c727020b9",
   "metadata": {
    "tags": []
   },
   "outputs": [],
   "source": [
    "\n",
    "merged_df = pd.merge(y_winner_over_90, df_temp_ref, left_on='y_axis_rc_code', right_on='coord', how='inner')\n",
    "pd.set_option('display.max_rows', None)\n",
    "#merged_df[['konzept_code', 'y_axis_rc_code', 'member_name', 'y_axis_name', 'Y_Winner', 'coord', 'reference', 'text']]\n",
    "merged_df[['konzept_code', 'y_axis_rc_code', 'member_name', 'y_axis_name', 'Y_Winner', 'coord', 'reference', 'text']].to_csv('output.csv', index=False)\n"
   ]
  },
  {
   "cell_type": "code",
   "execution_count": null,
   "id": "7d125d5f-6e93-4e65-a955-2ebfcbb129d6",
   "metadata": {},
   "outputs": [],
   "source": []
  }
 ],
 "metadata": {
  "kernelspec": {
   "display_name": "Python 3 (ipykernel)",
   "language": "python",
   "name": "python3"
  },
  "language_info": {
   "codemirror_mode": {
    "name": "ipython",
    "version": 3
   },
   "file_extension": ".py",
   "mimetype": "text/x-python",
   "name": "python",
   "nbconvert_exporter": "python",
   "pygments_lexer": "ipython3",
   "version": "3.10.13"
  }
 },
 "nbformat": 4,
 "nbformat_minor": 5
}
